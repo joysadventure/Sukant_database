{
 "cells": [
  {
   "cell_type": "markdown",
   "metadata": {},
   "source": [
    "### Assignment 3"
   ]
  },
  {
   "cell_type": "markdown",
   "metadata": {},
   "source": [
    "### Ans1 : The two values of the two boolean datatypes are True and False"
   ]
  },
  {
   "cell_type": "markdown",
   "metadata": {},
   "source": [
    "### Ans 2 : \"and\", \"or\"  and  \"not\" are the three types of the Boolean operator"
   ]
  },
  {
   "cell_type": "markdown",
   "metadata": {},
   "source": [
    "### Ans 3 :\n",
    "### And Operation Truth table\n",
    "\n",
    "### True and True = True\n",
    "### True and False = False\n",
    "### False and True = False\n",
    "### False and False = False\n",
    "\n",
    "### OR Operation Truth Table\n",
    "### True or True = True\n",
    "### True or False = True\n",
    "### False or True = True\n",
    "### False or False = False\n"
   ]
  },
  {
   "cell_type": "markdown",
   "metadata": {},
   "source": [
    "### (5 > 4) = True and (3 == 5) = False\n",
    "### False and False = False\n",
    "### not (5>4) = False\n",
    "### (5>4) or (3==5) = True\n",
    "### not ((5 > 4) or (3 == 5)) = False \n",
    "### (True and True) and (True == False)  = False\n",
    "### (not False) or (not True) = True"
   ]
  },
  {
   "cell_type": "markdown",
   "metadata": {},
   "source": [
    "### Ans4 : The six comparison operations are :\n",
    "###   == , equal to\n",
    "###   != , is not equal to\n",
    "###  < , is less than\n",
    "### <= , is less than and equal to \n",
    "### > , greater than\n",
    "### >= , greater than equal to"
   ]
  },
  {
   "cell_type": "markdown",
   "metadata": {},
   "source": [
    "### Ans 5 : The \"equal to\" is defined for a variable ,while \"==\" is set for condition statement\n",
    "### example : a = 5 , b = 6, \n",
    "###                   if (a == b), print(\"this is not true\") "
   ]
  },
  {
   "cell_type": "code",
   "execution_count": 59,
   "metadata": {},
   "outputs": [
    {
     "name": "stdout",
     "output_type": "stream",
     "text": [
      "ham\n",
      "spam\n",
      "spam\n"
     ]
    }
   ],
   "source": [
    "## Ans 6 : \n",
    "\n",
    "spam = 4\n",
    "\n",
    "if spam == 10:  ### First block\n",
    "  print('eggs')\n",
    "elif spam > 5:    ### Second Block\n",
    "        print('bacon')\n",
    "else:           ### 3rd Block\n",
    "        print('ham')\n",
    "        print('spam')\n",
    "        print('spam')\n",
    "        "
   ]
  },
  {
   "cell_type": "code",
   "execution_count": 69,
   "metadata": {},
   "outputs": [
    {
     "name": "stdout",
     "output_type": "stream",
     "text": [
      "Please enter the value here : 3\n",
      "Greetings!!!\n"
     ]
    }
   ],
   "source": [
    "## Ans8 :\n",
    "\n",
    "spam = int(input(\"Please enter the value here : \"))\n",
    "\n",
    "if spam == 1:\n",
    "    print(\"Hello\")\n",
    "\n",
    "elif spam == 2:\n",
    "     print(\"Howdy\")\n",
    "    \n",
    "else: \n",
    "    print(\"Greetings!!!\")"
   ]
  },
  {
   "cell_type": "markdown",
   "metadata": {},
   "source": [
    "### Ans 9 : If the programme is stuck in endless loop just type Cntrl + C"
   ]
  },
  {
   "cell_type": "markdown",
   "metadata": {},
   "source": [
    "### Ans 10 : Break helps in terminating the current ongoing loop and then it passes over the control to the next statement , while continue is when we skip the current statement and continue with the next statement"
   ]
  },
  {
   "cell_type": "markdown",
   "metadata": {},
   "source": [
    "### Ans 11 : All the 3 conditions gives the same output. How ever the range(10) provides the values from 0 to 9 which mentions the stop value while it considers vlaue 0 be default. range(0,10) gives the range starting from the value '0' to value '10' and finally range(0,10,1) , is the range defined with an increment in value 1. "
   ]
  },
  {
   "cell_type": "code",
   "execution_count": 71,
   "metadata": {},
   "outputs": [
    {
     "name": "stdout",
     "output_type": "stream",
     "text": [
      "0\n",
      "1\n",
      "2\n",
      "3\n",
      "4\n",
      "5\n",
      "6\n",
      "7\n",
      "8\n",
      "9\n"
     ]
    }
   ],
   "source": []
  },
  {
   "cell_type": "code",
   "execution_count": 72,
   "metadata": {},
   "outputs": [
    {
     "name": "stdout",
     "output_type": "stream",
     "text": [
      "0\n",
      "1\n",
      "2\n",
      "3\n",
      "4\n",
      "5\n",
      "6\n",
      "7\n",
      "8\n",
      "9\n"
     ]
    }
   ],
   "source": [
    "for i in range(0,10):\n",
    "    print(i)"
   ]
  },
  {
   "cell_type": "code",
   "execution_count": 75,
   "metadata": {},
   "outputs": [
    {
     "name": "stdout",
     "output_type": "stream",
     "text": [
      "0\n",
      "1\n",
      "2\n",
      "3\n",
      "4\n",
      "5\n",
      "6\n",
      "7\n",
      "8\n",
      "9\n"
     ]
    }
   ],
   "source": [
    "for i in range(0,10,1):\n",
    "    print(i)"
   ]
  },
  {
   "cell_type": "markdown",
   "metadata": {},
   "source": [
    "### Ans12:"
   ]
  },
  {
   "cell_type": "code",
   "execution_count": 80,
   "metadata": {},
   "outputs": [
    {
     "name": "stdout",
     "output_type": "stream",
     "text": [
      "1\n",
      "2\n",
      "3\n",
      "4\n",
      "5\n",
      "6\n",
      "7\n",
      "8\n",
      "9\n",
      "10\n"
     ]
    }
   ],
   "source": [
    "## Using for loop \n",
    "for i in range (1,11,1):\n",
    "    print (i)"
   ]
  },
  {
   "cell_type": "code",
   "execution_count": 83,
   "metadata": {},
   "outputs": [
    {
     "name": "stdout",
     "output_type": "stream",
     "text": [
      "1\n",
      "2\n",
      "3\n",
      "4\n",
      "5\n",
      "6\n",
      "7\n",
      "8\n",
      "9\n",
      "10\n"
     ]
    }
   ],
   "source": [
    "## using while loop\n",
    "i = 1\n",
    "while i <=10:\n",
    "    print(i)\n",
    "    i+=1"
   ]
  },
  {
   "cell_type": "markdown",
   "metadata": {},
   "source": [
    "### Ans 13: This can be called as spam.becon()"
   ]
  },
  {
   "cell_type": "code",
   "execution_count": null,
   "metadata": {},
   "outputs": [],
   "source": []
  },
  {
   "cell_type": "code",
   "execution_count": null,
   "metadata": {},
   "outputs": [],
   "source": []
  }
 ],
 "metadata": {
  "kernelspec": {
   "display_name": "Python 3",
   "language": "python",
   "name": "python3"
  },
  "language_info": {
   "codemirror_mode": {
    "name": "ipython",
    "version": 3
   },
   "file_extension": ".py",
   "mimetype": "text/x-python",
   "name": "python",
   "nbconvert_exporter": "python",
   "pygments_lexer": "ipython3",
   "version": "3.7.9"
  }
 },
 "nbformat": 4,
 "nbformat_minor": 4
}
